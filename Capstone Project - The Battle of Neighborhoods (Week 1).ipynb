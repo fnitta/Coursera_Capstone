{
 "cells": [
  {
   "cell_type": "markdown",
   "metadata": {},
   "source": [
    "# Capstone Project - The Battle of Neighborhoods (Week 1), Coursera Applied Data Science Capstone"
   ]
  },
  {
   "cell_type": "markdown",
   "metadata": {},
   "source": [
    "# Introduction/Business Problem"
   ]
  },
  {
   "cell_type": "markdown",
   "metadata": {},
   "source": [
    "The purpose of this project is to determine the similarity between various multicultural cities. This could have a casual purpose, if someone would like move to a different multicultural city, and would like to know how similar it is to determine whether they would be able to adapt to that location. However, it could serve a more professional purpose, if a contractor wanted to start a new business, and has or knows of a successful business in a multicultural city, then he or she could choose a new location that is similar to the old multicultural city."
   ]
  },
  {
   "cell_type": "markdown",
   "metadata": {},
   "source": [
    "# Data"
   ]
  },
  {
   "cell_type": "markdown",
   "metadata": {},
   "source": [
    "According to https://www.orientrailjourneys.com/blog/10-multicultural-cities-in-the-world/: Toronto, Canada, Los Angeles, USA, and Sydney, Australia are the top three most multicultural cities in the world, and will thus be used for this project. I will use Wikipedia pages to get a list of neighborhoods in these three cities. The links are below:\n",
    "\n",
    "Toronto: https://en.wikipedia.org/wiki/List_of_postal_codes_of_Canada:_M\n",
    "\n",
    "Los Angeles: https://en.wikipedia.org/wiki/List_of_districts_and_neighborhoods_of_Los_Angeles\n",
    "\n",
    "Sydney: https://en.wikipedia.org/wiki/List_of_Sydney_suburbs\n",
    "\n",
    "From these neighborhoods, I will utilize the Foursquare API to find the top 10 most common venues that are within a 500 meter radius of the neighborhood. Then, I will run k-means of all neighborhoods to cluster them into five clusters based on the top 10 most common venues. Lastly, I will compare each city's individual distributions of these five clusters to compare their similarity.\n",
    "\n",
    "This section contains code for data cleaning."
   ]
  },
  {
   "cell_type": "code",
   "execution_count": null,
   "metadata": {},
   "outputs": [],
   "source": []
  }
 ],
 "metadata": {
  "kernelspec": {
   "display_name": "Python",
   "language": "python",
   "name": "conda-env-python-py"
  },
  "language_info": {
   "codemirror_mode": {
    "name": "ipython",
    "version": 3
   },
   "file_extension": ".py",
   "mimetype": "text/x-python",
   "name": "python",
   "nbconvert_exporter": "python",
   "pygments_lexer": "ipython3",
   "version": "3.6.7"
  }
 },
 "nbformat": 4,
 "nbformat_minor": 4
}
